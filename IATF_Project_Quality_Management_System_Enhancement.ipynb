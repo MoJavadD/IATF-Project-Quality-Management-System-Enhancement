{
  "nbformat": 4,
  "nbformat_minor": 0,
  "metadata": {
    "colab": {
      "provenance": []
    },
    "kernelspec": {
      "name": "python3",
      "display_name": "Python 3"
    },
    "language_info": {
      "name": "python"
    }
  },
  "cells": [
    {
      "cell_type": "code",
      "execution_count": null,
      "metadata": {
        "id": "2SXQA50gVxzy"
      },
      "outputs": [],
      "source": [
        "mport pandas as pd\n",
        "from sklearn.model_selection import train_test_split\n",
        "from sklearn.svm import SVC\n",
        "from sklearn.metrics import accuracy_score, classification_report, confusion_matrix\n",
        "from sklearn.preprocessing import LabelEncoder\n",
        "from sklearn.preprocessing import StandardScaler\n",
        "import joblib"
      ]
    },
    {
      "cell_type": "code",
      "source": [
        "# Load the dataset\n",
        "dataset_path = 'DATA.csv'\n",
        "df = pd.read_csv(dataset_path)"
      ],
      "metadata": {
        "id": "jlj_iSqXVy0g"
      },
      "execution_count": null,
      "outputs": []
    },
    {
      "cell_type": "code",
      "source": [
        "# Check for missing values\n",
        "missing_values = df.isnull().sum()\n",
        "print(f'Missing Values:\\n{missing_values}')"
      ],
      "metadata": {
        "id": "qzkn5frfVy2-"
      },
      "execution_count": null,
      "outputs": []
    },
    {
      "cell_type": "code",
      "source": [
        "# Handle missing values\n",
        "df['Numerical_Column'] = df['Numerical_Column'].fillna(df['Numerical_Column'].mean())\n",
        "df['Categorical_Column'] = df['Categorical_Column'].fillna(df['Categorical_Column'].mode()[0])\n"
      ],
      "metadata": {
        "id": "9pGqgGZoVy56"
      },
      "execution_count": null,
      "outputs": []
    },
    {
      "cell_type": "code",
      "source": [
        "# Encode categorical variables\n",
        "df_encoded = pd.get_dummies(df, columns=['Categorical_Column'])\n"
      ],
      "metadata": {
        "id": "7En4tWriVzHC"
      },
      "execution_count": null,
      "outputs": []
    },
    {
      "cell_type": "code",
      "source": [
        "# Standardize numerical features\n",
        "scaler = StandardScaler()\n",
        "df_encoded['Numerical_Column'] = scaler.fit_transform(df_encoded[['Numerical_Column']])\n"
      ],
      "metadata": {
        "id": "xtwnHLI8VzK0"
      },
      "execution_count": null,
      "outputs": []
    },
    {
      "cell_type": "code",
      "source": [
        "# Split the data into features (X) and target variable (y)\n",
        "X = df_encoded.drop('Quality_status', axis=1)\n",
        "y = df_encoded['Quality_status']\n"
      ],
      "metadata": {
        "id": "PwxlBeDFVzN0"
      },
      "execution_count": null,
      "outputs": []
    },
    {
      "cell_type": "code",
      "source": [
        "# Encode categorical labels for the Quality status\n",
        "label_encoder = LabelEncoder()\n",
        "y_encoded = label_encoder.fit_transform(y)"
      ],
      "metadata": {
        "id": "x7Mv_R1BVzQn"
      },
      "execution_count": null,
      "outputs": []
    },
    {
      "cell_type": "code",
      "source": [
        "# Split the data into training and testing sets\n",
        "X_train, X_test, y_train, y_test = train_test_split(X, y_encoded, test_size=0.2, random_state=42)\n"
      ],
      "metadata": {
        "id": "CAaI9HYtWNP6"
      },
      "execution_count": null,
      "outputs": []
    },
    {
      "cell_type": "code",
      "source": [
        "# Model Training (Using Support Vector Machine - SVM)\n",
        "model = SVC(kernel='linear', random_state=42)\n",
        "model.fit(X_train, y_train)\n"
      ],
      "metadata": {
        "id": "38tWlgDjWSi7"
      },
      "execution_count": null,
      "outputs": []
    },
    {
      "cell_type": "code",
      "source": [
        "# Model Evaluation\n",
        "y_pred = model.predict(X_test)"
      ],
      "metadata": {
        "id": "2bro_lcAWSl4"
      },
      "execution_count": null,
      "outputs": []
    },
    {
      "cell_type": "code",
      "source": [
        "accuracy = accuracy_score(y_test, y_pred)\n",
        "conf_matrix = confusion_matrix(y_test, y_pred)\n",
        "class_report = classification_report(y_test, y_pred)\n",
        "\n",
        "print(f'Model Evaluation Results:')\n",
        "print(f'Accuracy: {accuracy}')\n",
        "print(f'Confusion Matrix:\\n{conf_matrix}')\n",
        "print(f'Classification Report:\\n{class_report}')"
      ],
      "metadata": {
        "id": "_kiT6f_-WSon"
      },
      "execution_count": null,
      "outputs": []
    },
    {
      "cell_type": "code",
      "source": [
        "# Save the trained SVM model\n",
        "model_filename = 'qms_enhancement_model_svm.pkl'\n",
        "joblib.dump(model, model_filename)\n",
        "print(f'Saved the trained SVM model to {model_filename}')\n"
      ],
      "metadata": {
        "id": "0SdH6hqrVzTk"
      },
      "execution_count": null,
      "outputs": []
    },
    {
      "cell_type": "code",
      "source": [
        "# Using the model for prediction on new data\n",
        "new_data = pd.DataFrame({\n",
        "    'Feature_1': [value1, value2, value3],\n",
        "    'Feature_2': [value4, value5, value6],\n",
        "    'Feature_3': [value7, value8, value9],\n",
        "})\n",
        "\n",
        "new_data_encoded = label_encoder.transform(new_data['Quality_status'])\n",
        "new_data_predictions = model.predict(new_data.drop('Quality_status', axis=1))\n",
        "\n",
        "print(f'Predictions for New Data:\\n{new_data_predictions}')"
      ],
      "metadata": {
        "id": "VCEKC3-BVzWc"
      },
      "execution_count": null,
      "outputs": []
    },
    {
      "cell_type": "code",
      "source": [],
      "metadata": {
        "id": "n6M2uekqVzZV"
      },
      "execution_count": null,
      "outputs": []
    }
  ]
}